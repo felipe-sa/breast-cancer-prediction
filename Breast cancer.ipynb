{
 "cells": [
  {
   "cell_type": "markdown",
   "id": "5e1458e6",
   "metadata": {},
   "source": [
    "# Breast Cancer Prevision"
   ]
  },
  {
   "cell_type": "markdown",
   "id": "3e79537b",
   "metadata": {},
   "source": [
    "## Introduction\n",
    "\n",
    "In this project, our goal is to build a classification model based in Logistic Regression. We are going to talk more about Logistic Regression soon. For now, let's focus in the main aspects of the analysis.\n",
    "\n",
    "This breast cancer database was obtained from the University of Wisconsin Hospitals. All the details about the research that generated this data can be found in the following link: https://archive.ics.uci.edu/ml/datasets/Breast+Cancer+Wisconsin+%28Original%29.\n",
    "\n",
    "## Attribute Information\n",
    "\n",
    "The dataset is composed by 11 columns and 699 rows. Each row is related with some patient while each column represents some tumor attribute, except the first one named 'id number', that will be not relevant for our analysis. \n",
    "\n",
    "1. Sample code number: id number\n",
    "2. Clump Thickness: 1 - 10\n",
    "3. Uniformity of Cell Size: 1 - 10\n",
    "4. Uniformity of Cell Shape: 1 - 10\n",
    "5. Marginal Adhesion: 1 - 10\n",
    "6. Single Epithelial Cell Size: 1 - 10\n",
    "7. Bare Nuclei: 1 - 10\n",
    "8. Bland Chromatin: 1 - 10\n",
    "9. Normal Nucleoli: 1 - 10\n",
    "10. Mitoses: 1 - 10\n",
    "11. Class: (2 for benign, 4 for malignant)\n",
    "\n",
    "In the 11th column we have the results for the nature of the tumor: 2 for benign and 4 for malignant. Our goal here is to build a machine learning model that will predict the nature of the tumor based in the nine characteristics cited in the list above. The range of such characteristics, let's call then variables from now on, goes from 1 to 10. We are not going the deep in the medicinal details related to these variables, however, these nine parameters will be the dependent variables of our classification model. \n",
    "\n",
    "Let's begin!"
   ]
  },
  {
   "cell_type": "code",
   "execution_count": 1,
   "id": "8a6bdd6f",
   "metadata": {},
   "outputs": [],
   "source": [
    "import pandas as pd\n",
    "import numpy as np\n",
    "import matplotlib as plt\n",
    "\n",
    "#pd.set_option('display.max_columns', 20)\n",
    "#pd.set_option('display.max_rows', 500)"
   ]
  },
  {
   "cell_type": "code",
   "execution_count": 2,
   "id": "180eac07",
   "metadata": {},
   "outputs": [
    {
     "data": {
      "text/html": [
       "<div>\n",
       "<style scoped>\n",
       "    .dataframe tbody tr th:only-of-type {\n",
       "        vertical-align: middle;\n",
       "    }\n",
       "\n",
       "    .dataframe tbody tr th {\n",
       "        vertical-align: top;\n",
       "    }\n",
       "\n",
       "    .dataframe thead th {\n",
       "        text-align: right;\n",
       "    }\n",
       "</style>\n",
       "<table border=\"1\" class=\"dataframe\">\n",
       "  <thead>\n",
       "    <tr style=\"text-align: right;\">\n",
       "      <th></th>\n",
       "      <th>ID</th>\n",
       "      <th>V1</th>\n",
       "      <th>V2</th>\n",
       "      <th>V3</th>\n",
       "      <th>V4</th>\n",
       "      <th>V5</th>\n",
       "      <th>V6</th>\n",
       "      <th>V7</th>\n",
       "      <th>V8</th>\n",
       "      <th>V9</th>\n",
       "      <th>V10</th>\n",
       "    </tr>\n",
       "  </thead>\n",
       "  <tbody>\n",
       "    <tr>\n",
       "      <th>0</th>\n",
       "      <td>1000025</td>\n",
       "      <td>5</td>\n",
       "      <td>1</td>\n",
       "      <td>1</td>\n",
       "      <td>1</td>\n",
       "      <td>2</td>\n",
       "      <td>1</td>\n",
       "      <td>3</td>\n",
       "      <td>1</td>\n",
       "      <td>1</td>\n",
       "      <td>2</td>\n",
       "    </tr>\n",
       "    <tr>\n",
       "      <th>1</th>\n",
       "      <td>1002945</td>\n",
       "      <td>5</td>\n",
       "      <td>4</td>\n",
       "      <td>4</td>\n",
       "      <td>5</td>\n",
       "      <td>7</td>\n",
       "      <td>10</td>\n",
       "      <td>3</td>\n",
       "      <td>2</td>\n",
       "      <td>1</td>\n",
       "      <td>2</td>\n",
       "    </tr>\n",
       "    <tr>\n",
       "      <th>2</th>\n",
       "      <td>1015425</td>\n",
       "      <td>3</td>\n",
       "      <td>1</td>\n",
       "      <td>1</td>\n",
       "      <td>1</td>\n",
       "      <td>2</td>\n",
       "      <td>2</td>\n",
       "      <td>3</td>\n",
       "      <td>1</td>\n",
       "      <td>1</td>\n",
       "      <td>2</td>\n",
       "    </tr>\n",
       "    <tr>\n",
       "      <th>3</th>\n",
       "      <td>1016277</td>\n",
       "      <td>6</td>\n",
       "      <td>8</td>\n",
       "      <td>8</td>\n",
       "      <td>1</td>\n",
       "      <td>3</td>\n",
       "      <td>4</td>\n",
       "      <td>3</td>\n",
       "      <td>7</td>\n",
       "      <td>1</td>\n",
       "      <td>2</td>\n",
       "    </tr>\n",
       "    <tr>\n",
       "      <th>4</th>\n",
       "      <td>1017023</td>\n",
       "      <td>4</td>\n",
       "      <td>1</td>\n",
       "      <td>1</td>\n",
       "      <td>3</td>\n",
       "      <td>2</td>\n",
       "      <td>1</td>\n",
       "      <td>3</td>\n",
       "      <td>1</td>\n",
       "      <td>1</td>\n",
       "      <td>2</td>\n",
       "    </tr>\n",
       "    <tr>\n",
       "      <th>...</th>\n",
       "      <td>...</td>\n",
       "      <td>...</td>\n",
       "      <td>...</td>\n",
       "      <td>...</td>\n",
       "      <td>...</td>\n",
       "      <td>...</td>\n",
       "      <td>...</td>\n",
       "      <td>...</td>\n",
       "      <td>...</td>\n",
       "      <td>...</td>\n",
       "      <td>...</td>\n",
       "    </tr>\n",
       "    <tr>\n",
       "      <th>694</th>\n",
       "      <td>776715</td>\n",
       "      <td>3</td>\n",
       "      <td>1</td>\n",
       "      <td>1</td>\n",
       "      <td>1</td>\n",
       "      <td>3</td>\n",
       "      <td>2</td>\n",
       "      <td>1</td>\n",
       "      <td>1</td>\n",
       "      <td>1</td>\n",
       "      <td>2</td>\n",
       "    </tr>\n",
       "    <tr>\n",
       "      <th>695</th>\n",
       "      <td>841769</td>\n",
       "      <td>2</td>\n",
       "      <td>1</td>\n",
       "      <td>1</td>\n",
       "      <td>1</td>\n",
       "      <td>2</td>\n",
       "      <td>1</td>\n",
       "      <td>1</td>\n",
       "      <td>1</td>\n",
       "      <td>1</td>\n",
       "      <td>2</td>\n",
       "    </tr>\n",
       "    <tr>\n",
       "      <th>696</th>\n",
       "      <td>888820</td>\n",
       "      <td>5</td>\n",
       "      <td>10</td>\n",
       "      <td>10</td>\n",
       "      <td>3</td>\n",
       "      <td>7</td>\n",
       "      <td>3</td>\n",
       "      <td>8</td>\n",
       "      <td>10</td>\n",
       "      <td>2</td>\n",
       "      <td>4</td>\n",
       "    </tr>\n",
       "    <tr>\n",
       "      <th>697</th>\n",
       "      <td>897471</td>\n",
       "      <td>4</td>\n",
       "      <td>8</td>\n",
       "      <td>6</td>\n",
       "      <td>4</td>\n",
       "      <td>3</td>\n",
       "      <td>4</td>\n",
       "      <td>10</td>\n",
       "      <td>6</td>\n",
       "      <td>1</td>\n",
       "      <td>4</td>\n",
       "    </tr>\n",
       "    <tr>\n",
       "      <th>698</th>\n",
       "      <td>897471</td>\n",
       "      <td>4</td>\n",
       "      <td>8</td>\n",
       "      <td>8</td>\n",
       "      <td>5</td>\n",
       "      <td>4</td>\n",
       "      <td>5</td>\n",
       "      <td>10</td>\n",
       "      <td>4</td>\n",
       "      <td>1</td>\n",
       "      <td>4</td>\n",
       "    </tr>\n",
       "  </tbody>\n",
       "</table>\n",
       "<p>699 rows × 11 columns</p>\n",
       "</div>"
      ],
      "text/plain": [
       "          ID  V1  V2  V3  V4  V5  V6  V7  V8  V9  V10\n",
       "0    1000025   5   1   1   1   2   1   3   1   1    2\n",
       "1    1002945   5   4   4   5   7  10   3   2   1    2\n",
       "2    1015425   3   1   1   1   2   2   3   1   1    2\n",
       "3    1016277   6   8   8   1   3   4   3   7   1    2\n",
       "4    1017023   4   1   1   3   2   1   3   1   1    2\n",
       "..       ...  ..  ..  ..  ..  ..  ..  ..  ..  ..  ...\n",
       "694   776715   3   1   1   1   3   2   1   1   1    2\n",
       "695   841769   2   1   1   1   2   1   1   1   1    2\n",
       "696   888820   5  10  10   3   7   3   8  10   2    4\n",
       "697   897471   4   8   6   4   3   4  10   6   1    4\n",
       "698   897471   4   8   8   5   4   5  10   4   1    4\n",
       "\n",
       "[699 rows x 11 columns]"
      ]
     },
     "execution_count": 2,
     "metadata": {},
     "output_type": "execute_result"
    }
   ],
   "source": [
    "index = ['ID', 'V1', 'V2', 'V3', 'V4', 'V5', 'V6', 'V7', 'V8', 'V9', 'V10']\n",
    "dataset = pd.read_table('breast-cancer-wisconsin.data', sep=',', names=index)\n",
    "dataset"
   ]
  },
  {
   "cell_type": "code",
   "execution_count": 3,
   "id": "4114e7a9",
   "metadata": {},
   "outputs": [
    {
     "data": {
      "text/plain": [
       "ID      int64\n",
       "V1      int64\n",
       "V2      int64\n",
       "V3      int64\n",
       "V4      int64\n",
       "V5      int64\n",
       "V6     object\n",
       "V7      int64\n",
       "V8      int64\n",
       "V9      int64\n",
       "V10     int64\n",
       "dtype: object"
      ]
     },
     "execution_count": 3,
     "metadata": {},
     "output_type": "execute_result"
    }
   ],
   "source": [
    "dataset.dtypes"
   ]
  },
  {
   "cell_type": "markdown",
   "id": "19b42aa1",
   "metadata": {},
   "source": [
    "## Data cleaning\n",
    "\n",
    "The dataset is almost ready, unless for one detail... The problem seems to be in column V6 where there are mixed data. Then, our fist task is to eliminate these problematic values in V6.\n",
    "\n",
    "Let's start figuring out what are the problematic cells:"
   ]
  },
  {
   "cell_type": "code",
   "execution_count": 4,
   "id": "4372eb90",
   "metadata": {},
   "outputs": [
    {
     "name": "stdout",
     "output_type": "stream",
     "text": [
      "23 ?\n",
      "40 ?\n",
      "139 ?\n",
      "145 ?\n",
      "158 ?\n",
      "164 ?\n",
      "235 ?\n",
      "249 ?\n",
      "275 ?\n",
      "292 ?\n",
      "294 ?\n",
      "297 ?\n",
      "315 ?\n",
      "321 ?\n",
      "411 ?\n",
      "617 ?\n",
      "Number of problematic cells: 16\n"
     ]
    }
   ],
   "source": [
    "aux_list = ['1', '2', '3', '4', '5', '6', '7', '8', '9', '10']\n",
    "counter = 0\n",
    "for index, value in dataset['V6'].items():\n",
    "    if value in aux_list:\n",
    "        pass\n",
    "    else:\n",
    "        counter += 1\n",
    "        print(index, value)\n",
    "\n",
    "print(f'Number of problematic cells: {counter}')"
   ]
  },
  {
   "cell_type": "markdown",
   "id": "0129a6c2",
   "metadata": {},
   "source": [
    "Because of 16 cells our dataset wasn't ready. These cells have the question mark symbol '?' that can't be interpreted as an integer. These 16 rows corresponds to less that 2,3 % of the dataset. Once this percentage is quite small, we'll just drop these problematic columns. The remain amount of data will be enough for our classification model."
   ]
  },
  {
   "cell_type": "code",
   "execution_count": 5,
   "id": "5626204f",
   "metadata": {},
   "outputs": [],
   "source": [
    "for index, value in dataset['V6'].items():\n",
    "    if value == '?':\n",
    "        dataset.drop(index, inplace=True)"
   ]
  },
  {
   "cell_type": "code",
   "execution_count": 6,
   "id": "57a11220",
   "metadata": {},
   "outputs": [
    {
     "data": {
      "text/plain": [
       "ID     int64\n",
       "V1     int64\n",
       "V2     int64\n",
       "V3     int64\n",
       "V4     int64\n",
       "V5     int64\n",
       "V6     int64\n",
       "V7     int64\n",
       "V8     int64\n",
       "V9     int64\n",
       "V10    int64\n",
       "dtype: object"
      ]
     },
     "execution_count": 6,
     "metadata": {},
     "output_type": "execute_result"
    }
   ],
   "source": [
    "dataset['V6'] = dataset['V6'].astype(int)\n",
    "dataset.dtypes"
   ]
  },
  {
   "cell_type": "markdown",
   "id": "26e41cde",
   "metadata": {},
   "source": [
    "Now the dataset is ready for the implementation of our logistic regression model. However, before we start the code implementation, a fast digression about logistic regression. "
   ]
  },
  {
   "cell_type": "markdown",
   "id": "05d37353",
   "metadata": {},
   "source": [
    "## Logistic Regression\n",
    "\n",
    "Assume that there are two freshman students in physics and that the semi annual calculus exam is coming. The first student is being very dedicated in the studies while the second one not that much, but he is studying a bit. So the question is which student is most likely to pass the test? \n",
    "\n",
    "Perhaps you are presuming that the second student certainly will fail while the first one certainly will pass. If it is true, unfortunately we'll need to disagree. Both students have chance to pass the exam, however, the probability of the first one is going to pass is greater than of the second one. \n",
    "\n",
    "Logistic Regression handles this kind of situation. Essentialy, considering the single variable case, let's call such variable x, a Logistic Regression model will provide to us a YES or NO type answer based on the value of x. The model also provides the probability of the YES or NO answer happens. For example, if the probability of the first student pass in the exam is 95 %, it's most likely that our model will provide the answer YES for this student. Still in exam exemple, x could be the hours of study performed by a student. \n",
    "\n",
    "The Logistic Regression is based in the Logistic Function (or Sigmoid's Function):\n",
    "\n",
    "$$f(x)=\\frac{L}{1+e^{-k(x-x_{0})}},$$\n",
    "\n",
    "where $x_{0}$ is the value of the Sigmoid's midpoint, $L$ is the curve's maximum value and $k$ is the logistic growth rate or steepness of the curve."
   ]
  },
  {
   "cell_type": "code",
   "execution_count": 7,
   "id": "d33951a0",
   "metadata": {},
   "outputs": [
    {
     "data": {
      "image/png": "[encoded data removed]",
      "text/plain": [
       "<Figure size 432x288 with 1 Axes>"
      ]
     },
     "metadata": {
      "needs_background": "light"
     },
     "output_type": "display_data"
    }
   ],
   "source": [
    "import matplotlib.pyplot as plt \n",
    "\n",
    "u = np.linspace(-15, 15, 100) \n",
    "\n",
    "def logistic(u):\n",
    "    return 1/(1 + np.exp(-0.5*(u-1)))\n",
    "\n",
    "font = {'family': 'serif',\n",
    "        'color':  'darkred',\n",
    "        'weight': 'normal',\n",
    "        'size': 14,\n",
    "        }\n",
    "\n",
    "f = logistic(u)\n",
    "plt.plot(u, f) \n",
    "plt.xlabel(\"$x$\", fontdict=font) \n",
    "plt.ylabel(\"$f(x)$\", fontdict=font)\n",
    "plt.title('Logistic Function: L = 1, k = 0.5, $x_0$ = 1')\n",
    "plt.axhline(y=1, color='r', linestyle='--')\n",
    "plt.axhline(y=0, color='r', linestyle='--')\n",
    "plt.show()"
   ]
  },
  {
   "cell_type": "markdown",
   "id": "b4a6213d",
   "metadata": {},
   "source": [
    "The figure right above is an example of Logistic Function. Now it becomes clearer why this Logistic Regression model is useful for classification models. In the context of calculus exam exemple, a student with few hours of study will probably not pass the exam. However, from some hours of study, this probability starts to increase until reach the value of 1 (100 %). "
   ]
  },
  {
   "cell_type": "markdown",
   "id": "ea1ad3d7",
   "metadata": {},
   "source": [
    "## Training the model"
   ]
  },
  {
   "cell_type": "code",
   "execution_count": 8,
   "id": "c8ab0e22",
   "metadata": {},
   "outputs": [],
   "source": [
    "x = dataset.iloc[:,1:-1].values\n",
    "y = dataset.iloc[:,-1].values"
   ]
  },
  {
   "cell_type": "code",
   "execution_count": 9,
   "id": "ed230229",
   "metadata": {},
   "outputs": [],
   "source": [
    "from sklearn.model_selection import train_test_split\n",
    "\n",
    "x_train, x_test, y_train, y_test = train_test_split(x, y, test_size=0.2, random_state=0)"
   ]
  },
  {
   "cell_type": "code",
   "execution_count": 10,
   "id": "79c42d3d",
   "metadata": {},
   "outputs": [
    {
     "data": {
      "text/plain": [
       "LogisticRegression(random_state=0)"
      ]
     },
     "execution_count": 10,
     "metadata": {},
     "output_type": "execute_result"
    }
   ],
   "source": [
    "from sklearn.linear_model import LogisticRegression\n",
    "\n",
    "classifier = LogisticRegression(random_state=0)\n",
    "classifier.fit(x_train,y_train)"
   ]
  },
  {
   "cell_type": "markdown",
   "id": "cdafff7d",
   "metadata": {},
   "source": [
    "The classification model is ready! We are now capeble to predict if a tumor is benign or malignant by the **prediction** function which take some row from the test dataset (information about some patient) and makes the prevision:"
   ]
  },
  {
   "cell_type": "code",
   "execution_count": 11,
   "id": "6f29d6a6",
   "metadata": {},
   "outputs": [],
   "source": [
    "def prediction(index):\n",
    "    vec = x_test[index]\n",
    "    result = classifier.predict([vec])\n",
    "    if result == [2]:\n",
    "        return print('The tumor is benign.')\n",
    "    else:\n",
    "        return print('The tumor is malignant.')"
   ]
  },
  {
   "cell_type": "code",
   "execution_count": 12,
   "id": "10f25be3",
   "metadata": {},
   "outputs": [
    {
     "name": "stdout",
     "output_type": "stream",
     "text": [
      "The tumor is benign.\n",
      "The tumor is benign.\n",
      "The tumor is malignant.\n",
      "The tumor is malignant.\n",
      "The tumor is benign.\n",
      "The tumor is benign.\n",
      "The tumor is benign.\n",
      "The tumor is malignant.\n"
     ]
    }
   ],
   "source": [
    "for index in range(8):\n",
    "    prediction(index)"
   ]
  },
  {
   "cell_type": "markdown",
   "id": "7e1f851d",
   "metadata": {},
   "source": [
    "## Accuracy of our classification\n",
    "\n",
    "Above we computed confusion matrix, which is one of the classification metrics that evaluates the accuracy of a classification."
   ]
  },
  {
   "cell_type": "code",
   "execution_count": 13,
   "id": "b5f97c8d",
   "metadata": {},
   "outputs": [
    {
     "name": "stdout",
     "output_type": "stream",
     "text": [
      "[[84  3]\n",
      " [ 3 47]]\n"
     ]
    }
   ],
   "source": [
    "from sklearn.metrics import confusion_matrix\n",
    "\n",
    "y_pred = classifier.predict(x_test)\n",
    "\n",
    "cm = confusion_matrix(y_test,y_pred)\n",
    "print(cm)"
   ]
  },
  {
   "cell_type": "markdown",
   "id": "baa2bd8f",
   "metadata": {},
   "source": [
    "The confusion matrix essentialy provides to us the match between our classification model and the real results. The diagonal elements of the matrix are the cases where both the prevision and the real observations matched. The off-diagonal terms are the opposite: cases where the prevision and the real observation don't agree.\n",
    "\n",
    "It's easy to compute the accuracy of our model:"
   ]
  },
  {
   "cell_type": "code",
   "execution_count": 14,
   "id": "d0003b09",
   "metadata": {},
   "outputs": [
    {
     "name": "stdout",
     "output_type": "stream",
     "text": [
      "The accuracy of our model is 95.62043795620438.\n"
     ]
    }
   ],
   "source": [
    "acc = ((cm[0,0]+cm[1,1])/(cm[0,0]+cm[1,1]+cm[0,1]+cm[1,0]))*100\n",
    "print(f'The accuracy of our model is {acc}.')"
   ]
  },
  {
   "cell_type": "markdown",
   "id": "25f1d05e",
   "metadata": {},
   "source": [
    "Of course the accuracy computed above is a great indicative that our classification model is working very well. However, we need to submit our classification model to a more exigent test of validation. \n",
    "\n",
    "This test is named **k-fold cross-validation** ($k$-fold CV). Basically, the training set is split into k smaller sets, let's name these splits as k-folds. Once the splits were done, the model is trained using $k-1$ folds as training data. The resulting model is validated by the remaining part of the data, i.e., the fold that was \"ignored\" before is used as a test set to compute a performance measure, such as accuracy.\n",
    "\n",
    "We will perform the $k$-fold CV setting $k=10$:"
   ]
  },
  {
   "cell_type": "code",
   "execution_count": 15,
   "id": "3e6800ee",
   "metadata": {},
   "outputs": [
    {
     "name": "stdout",
     "output_type": "stream",
     "text": [
      "[0.94545455 0.96363636 0.96363636 1.         0.94545455 1.\n",
      " 0.96296296 0.96296296 0.98148148 0.94444444]\n",
      "The mean accuracy is 0.967003367003367\n",
      "The standard deviation for the accuracies is 0.019697976894447813\n"
     ]
    }
   ],
   "source": [
    "from sklearn.model_selection import cross_val_score\n",
    "\n",
    "accuracies = cross_val_score(classifier, X=x_train, y=y_train, cv=10)\n",
    "\n",
    "print(accuracies)\n",
    "print('The mean accuracy is {}'.format(accuracies.mean()))\n",
    "print('The standard deviation for the accuracies is {}'.format(accuracies.std()))"
   ]
  },
  {
   "cell_type": "markdown",
   "id": "7716d0f2",
   "metadata": {},
   "source": [
    "After the $k$-fold CV we obtained a really good accuracy for all the 10 tests. The main accuracy is also very good as well as the standard deviation that is pretty small. Seems that our classification model is working fine!\n",
    "\n",
    "That is all for today. I hope you enjoyed this study of case. See you next time! "
   ]
  }
 ],
 "metadata": {
  "kernelspec": {
   "display_name": "Python 3 (ipykernel)",
   "language": "python",
   "name": "python3"
  },
  "language_info": {
   "codemirror_mode": {
    "name": "ipython",
    "version": 3
   },
   "file_extension": ".py",
   "mimetype": "text/x-python",
   "name": "python",
   "nbconvert_exporter": "python",
   "pygments_lexer": "ipython3",
   "version": "3.9.7"
  }
 },
 "nbformat": 4,
 "nbformat_minor": 5
}
